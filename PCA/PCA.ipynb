{
 "cells": [
  {
   "cell_type": "code",
   "execution_count": 34,
   "metadata": {
    "collapsed": true
   },
   "outputs": [],
   "source": [
    "import pandas as pd\n",
    "import numpy as np"
   ]
  },
  {
   "cell_type": "code",
   "execution_count": 35,
   "metadata": {
    "collapsed": true
   },
   "outputs": [],
   "source": [
    "url = \"https://archive.ics.uci.edu/ml/machine-learning-databases/iris/iris.data\"\n",
    "names = ['sepallength', 'sepalwidth', 'petallength', 'petalwidth', 'class']\n",
    "df = pd.read_csv(url, names=names)\n",
    "classname = df['class']\n",
    "dataset=df.dropna()"
   ]
  },
  {
   "cell_type": "code",
   "execution_count": 36,
   "metadata": {
    "collapsed": true
   },
   "outputs": [],
   "source": [
    "list1=[]\n",
    "list2=[]\n",
    "list3=[]\n",
    "list4=[]\n",
    "column1=sum(dataset.sepallength)/len(dataset.sepallength)\n",
    "column2=sum(dataset.sepalwidth)/len(dataset.sepalwidth)\n",
    "column3=sum(dataset.petallength)/len(dataset.petallength)\n",
    "column4=sum(dataset.petalwidth)/len(dataset.petalwidth)\n",
    "for x in range(150):\n",
    "    list1.append(dataset.sepallength[x]-column1)\n",
    "    list2.append(dataset.sepalwidth[x]-column2)\n",
    "    list3.append(dataset.petallength[x]-column3)\n",
    "    list4.append(dataset.petalwidth[x]-column4)"
   ]
  },
  {
   "cell_type": "code",
   "execution_count": 37,
   "metadata": {
    "collapsed": true
   },
   "outputs": [],
   "source": [
    "x=np.column_stack((list1,list2,list3,list4))\n",
    "xT=x.transpose()"
   ]
  },
  {
   "cell_type": "code",
   "execution_count": 38,
   "metadata": {
    "collapsed": true
   },
   "outputs": [],
   "source": [
    "covariancematrix = np.matmul(xT,x)/(x.shape[0]-1)"
   ]
  },
  {
   "cell_type": "code",
   "execution_count": 39,
   "metadata": {
    "collapsed": true
   },
   "outputs": [],
   "source": [
    "from numpy import linalg as LA\n",
    "e,v = LA.eig(covariancematrix)"
   ]
  },
  {
   "cell_type": "code",
   "execution_count": 40,
   "metadata": {},
   "outputs": [
    {
     "name": "stdout",
     "output_type": "stream",
     "text": [
      "[(4.2248407683201075, array([ 0.36158968, -0.65653988, -0.58099728,  0.31725455])), (0.24224357162751523, array([-0.08226889, -0.72971237,  0.59641809, -0.32409435])), (0.078523908094154576, array([ 0.85657211,  0.1757674 ,  0.07252408, -0.47971899])), (0.023683027126001021, array([ 0.35884393,  0.07470647,  0.54906091,  0.75112056]))]\n"
     ]
    }
   ],
   "source": [
    "evlist=[]\n",
    "sortedevziplist=[]\n",
    "evzip=list(zip(e,v))\n",
    "print(evzip)\n",
    "sortedevzip = sorted(evzip, reverse = True)\n",
    "sortedevzip\n",
    "for i in range(4):\n",
    "    sortedevziplist.append([sortedevzip[i][1][0],sortedevzip[i][1][1]])"
   ]
  },
  {
   "cell_type": "code",
   "execution_count": 41,
   "metadata": {
    "collapsed": true
   },
   "outputs": [],
   "source": [
    "sortedevziplistmatrix=np.array(sortedevziplist)"
   ]
  },
  {
   "cell_type": "code",
   "execution_count": 42,
   "metadata": {
    "collapsed": true
   },
   "outputs": [],
   "source": [
    "z=np.matmul(x,sortedevziplistmatrix)"
   ]
  },
  {
   "cell_type": "code",
   "execution_count": 46,
   "metadata": {
    "collapsed": true
   },
   "outputs": [],
   "source": [
    "d = {'Component 1': z[:,0], 'Component 2': z[:,1],'col3' : classname}\n",
    "dfs = pd.DataFrame(data=d)"
   ]
  },
  {
   "cell_type": "code",
   "execution_count": 47,
   "metadata": {},
   "outputs": [
    {
     "data": {
      "image/png": "[encoded data removed]",
      "text/plain": [
       "<matplotlib.figure.Figure at 0x767cad4a20>"
      ]
     },
     "metadata": {},
     "output_type": "display_data"
    }
   ],
   "source": [
    "import matplotlib.pyplot as plt\n",
    "import seaborn as sns\n",
    "sns.lmplot(x=\"Component 1\",y=\"Component 2\",data = dfs,fit_reg=False,hue='col3',legend=False)\n",
    "plt.legend(loc=\"upper right\")\n",
    "plt.show()"
   ]
  },
  {
   "cell_type": "code",
   "execution_count": null,
   "metadata": {
    "collapsed": true
   },
   "outputs": [],
   "source": []
  },
  {
   "cell_type": "code",
   "execution_count": null,
   "metadata": {
    "collapsed": true
   },
   "outputs": [],
   "source": []
  },
  {
   "cell_type": "code",
   "execution_count": null,
   "metadata": {
    "collapsed": true
   },
   "outputs": [],
   "source": []
  },
  {
   "cell_type": "code",
   "execution_count": null,
   "metadata": {
    "collapsed": true
   },
   "outputs": [],
   "source": []
  }
 ],
 "metadata": {
  "kernelspec": {
   "display_name": "Python 3",
   "language": "python",
   "name": "python3"
  },
  "language_info": {
   "codemirror_mode": {
    "name": "ipython",
    "version": 3
   },
   "file_extension": ".py",
   "mimetype": "text/x-python",
   "name": "python",
   "nbconvert_exporter": "python",
   "pygments_lexer": "ipython3",
   "version": "3.6.3"
  }
 },
 "nbformat": 4,
 "nbformat_minor": 2
}
